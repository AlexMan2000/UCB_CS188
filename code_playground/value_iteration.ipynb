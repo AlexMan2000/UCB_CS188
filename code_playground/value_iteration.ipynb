{
 "cells": [
  {
   "cell_type": "code",
   "execution_count": 1,
   "metadata": {},
   "outputs": [],
   "source": [
    "import numpy as np\n"
   ]
  },
  {
   "cell_type": "code",
   "execution_count": 7,
   "metadata": {},
   "outputs": [
    {
     "name": "stdout",
     "output_type": "stream",
     "text": [
      "[0 0 0]\n",
      "[0.  0.8 2. ]\n",
      "[0.4  1.4  2.16]\n",
      "[0.7   1.528 2.4  ]\n",
      "[0.764  1.66   2.5156]\n",
      "[0.83    1.70748 2.5612 ]\n",
      "[0.85374  1.73436  2.590496]\n",
      "[0.86718   1.7478968 2.602994 ]\n",
      "[0.8739484  1.7543342  2.60973336]\n",
      "[0.8771671  1.75770969 2.61305136]\n",
      "[0.87885484 1.75934883 2.61469207]\n",
      "[0.87967441 1.76017859 2.61552622]\n",
      "[0.88008929 1.76059275 2.61593804]\n",
      "[0.88029637 1.76079927 2.61614534]\n",
      "[0.88039964 1.76090288 2.61624877]\n",
      "[0.88045144 1.76095456 2.61630047]\n",
      "[0.88047728 1.76098043 2.61632634]\n",
      "[0.88049021 1.76099336 2.61633927]\n",
      "[0.88049668 1.76099982 2.61634574]\n",
      "[0.88049991 1.76100306 2.61634897]\n",
      "[0.88050153 1.76100467 2.61635058]\n",
      "[0.88050234 1.76100548 2.61635139]\n",
      "[0.88050274 1.76100589 2.6163518 ]\n",
      "[0.88050294 1.76100609 2.616352  ]\n",
      "[0.88050304 1.76100619 2.6163521 ]\n"
     ]
    }
   ],
   "source": [
    "value_iter_vec = np.array([0,0,0])\n",
    "\n",
    "def transition_func(A, b):\n",
    "\n",
    "    def transition(x):\n",
    "        return A @ x + b\n",
    "\n",
    "    return transition\n",
    "\n",
    "\n",
    "markov_A = np.array([[0, 0.5, 0], [0.2, 0, 0.3], [0.3, 0.2, 0]])\n",
    "markov_b = np.array([0, 0.8, 2])\n",
    "\n",
    "\n",
    "\n",
    "def update_iteration(value_iter_vec, transition_func):\n",
    "    new_value_vec = transition_func(value_iter_vec)\n",
    "    return new_value_vec\n",
    "\n",
    "transition_updater = transition_func(markov_A, markov_b)\n",
    "new_value = value_iter_vec\n",
    "for i in range(25):\n",
    "    print(new_value)\n",
    "    new_value = update_iteration(new_value, transition_updater)"
   ]
  },
  {
   "cell_type": "code",
   "execution_count": 8,
   "metadata": {},
   "outputs": [
    {
     "data": {
      "text/plain": [
       "0.8805"
      ]
     },
     "execution_count": 8,
     "metadata": {},
     "output_type": "execute_result"
    }
   ],
   "source": [
    "1.761/2"
   ]
  },
  {
   "cell_type": "code",
   "execution_count": 10,
   "metadata": {},
   "outputs": [
    {
     "data": {
      "text/plain": [
       "-0.692"
      ]
     },
     "execution_count": 10,
     "metadata": {},
     "output_type": "execute_result"
    }
   ],
   "source": [
    "-2 + 2.616/2"
   ]
  },
  {
   "cell_type": "code",
   "execution_count": 14,
   "metadata": {},
   "outputs": [
    {
     "name": "stdout",
     "output_type": "stream",
     "text": [
      "[0 0 0 0 0 0]\n",
      "[1. 1. 1. 1. 1. 0.]\n",
      "[1.5  1.5  1.5  1.   1.25 0.  ]\n",
      "[1.75   1.5    1.6875 1.     1.25   0.    ]\n",
      "[1.796875 1.5      1.6875   1.       1.25     0.      ]\n",
      "[1.796875 1.5      1.6875   1.       1.25     0.      ]\n",
      "[1.796875 1.5      1.6875   1.       1.25     0.      ]\n",
      "[1.796875 1.5      1.6875   1.       1.25     0.      ]\n",
      "[1.796875 1.5      1.6875   1.       1.25     0.      ]\n",
      "[1.796875 1.5      1.6875   1.       1.25     0.      ]\n",
      "[1.796875 1.5      1.6875   1.       1.25     0.      ]\n",
      "[1.796875 1.5      1.6875   1.       1.25     0.      ]\n",
      "[1.796875 1.5      1.6875   1.       1.25     0.      ]\n",
      "[1.796875 1.5      1.6875   1.       1.25     0.      ]\n",
      "[1.796875 1.5      1.6875   1.       1.25     0.      ]\n",
      "[1.796875 1.5      1.6875   1.       1.25     0.      ]\n",
      "[1.796875 1.5      1.6875   1.       1.25     0.      ]\n",
      "[1.796875 1.5      1.6875   1.       1.25     0.      ]\n",
      "[1.796875 1.5      1.6875   1.       1.25     0.      ]\n",
      "[1.796875 1.5      1.6875   1.       1.25     0.      ]\n",
      "[1.796875 1.5      1.6875   1.       1.25     0.      ]\n",
      "[1.796875 1.5      1.6875   1.       1.25     0.      ]\n",
      "[1.796875 1.5      1.6875   1.       1.25     0.      ]\n",
      "[1.796875 1.5      1.6875   1.       1.25     0.      ]\n",
      "[1.796875 1.5      1.6875   1.       1.25     0.      ]\n"
     ]
    }
   ],
   "source": [
    "value_iter_vec = np.array([0,0,0,0,0,0])\n",
    "markov_A = np.array([[0, 0.25, 0.25, 0, 0, 0], [0, 0, 0, 0.5, 0, 0], [0, 0.25, 0, 0, 0.25, 0], [0,0,0,0,0,0.5], [0,0,0,0.25,0,0.25],[0,0,0,0,0,0]])\n",
    "markov_b = np.array([1,1,1,1,1,0])\n",
    "transition_updater = transition_func(markov_A, markov_b)\n",
    "new_value = value_iter_vec\n",
    "for i in range(25):\n",
    "    print(new_value)\n",
    "    new_value = update_iteration(new_value, transition_updater)"
   ]
  },
  {
   "cell_type": "code",
   "execution_count": null,
   "metadata": {},
   "outputs": [],
   "source": []
  },
  {
   "cell_type": "code",
   "execution_count": null,
   "metadata": {},
   "outputs": [],
   "source": []
  },
  {
   "cell_type": "code",
   "execution_count": null,
   "metadata": {},
   "outputs": [],
   "source": []
  }
 ],
 "metadata": {
  "kernelspec": {
   "display_name": "base",
   "language": "python",
   "name": "python3"
  },
  "language_info": {
   "codemirror_mode": {
    "name": "ipython",
    "version": 3
   },
   "file_extension": ".py",
   "mimetype": "text/x-python",
   "name": "python",
   "nbconvert_exporter": "python",
   "pygments_lexer": "ipython3",
   "version": "3.10.9"
  }
 },
 "nbformat": 4,
 "nbformat_minor": 2
}
